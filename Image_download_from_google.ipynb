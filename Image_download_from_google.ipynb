{
  "nbformat": 4,
  "nbformat_minor": 0,
  "metadata": {
    "colab": {
      "provenance": []
    },
    "kernelspec": {
      "name": "python3",
      "display_name": "Python 3"
    },
    "language_info": {
      "name": "python"
    }
  },
  "cells": [
    {
      "cell_type": "code",
      "source": [
        "! pip install simple_image_download"
      ],
      "metadata": {
        "colab": {
          "base_uri": "https://localhost:8080/"
        },
        "id": "Daf6i9DPWdD8",
        "outputId": "e90b62ce-0a27-45ec-d3c5-ee23e1e47fb7"
      },
      "execution_count": null,
      "outputs": [
        {
          "output_type": "stream",
          "name": "stdout",
          "text": [
            "Looking in indexes: https://pypi.org/simple, https://us-python.pkg.dev/colab-wheels/public/simple/\n",
            "Collecting simple_image_download\n",
            "  Downloading simple_image_download-0.5-py3-none-any.whl (7.0 kB)\n",
            "  Downloading simple_image_download-0.4-py3-none-any.whl (4.9 kB)\n",
            "  Downloading simple_image_download-0.2-py3-none-any.whl (3.8 kB)\n",
            "Requirement already satisfied: requests in /usr/local/lib/python3.7/dist-packages (from simple_image_download) (2.23.0)\n",
            "Requirement already satisfied: chardet<4,>=3.0.2 in /usr/local/lib/python3.7/dist-packages (from requests->simple_image_download) (3.0.4)\n",
            "Requirement already satisfied: idna<3,>=2.5 in /usr/local/lib/python3.7/dist-packages (from requests->simple_image_download) (2.10)\n",
            "Requirement already satisfied: urllib3!=1.25.0,!=1.25.1,<1.26,>=1.21.1 in /usr/local/lib/python3.7/dist-packages (from requests->simple_image_download) (1.24.3)\n",
            "Requirement already satisfied: certifi>=2017.4.17 in /usr/local/lib/python3.7/dist-packages (from requests->simple_image_download) (2022.9.24)\n",
            "Installing collected packages: simple-image-download\n",
            "Successfully installed simple-image-download-0.2\n"
          ]
        }
      ]
    },
    {
      "cell_type": "code",
      "source": [
        "from simple_image_download import simple_image_download as simp \n",
        "response = simp.simple_image_download\n",
        "\n",
        "lst=['Sachin Tendulkar', 'Amitabh Bachchan', 'Sania Mirza','Shah Rukh Khan','Kajol']\n",
        "\n",
        "for rep in lst:\n",
        "    response().download(rep +' face' , 30)"
      ],
      "metadata": {
        "id": "XYard4pPWiSz",
        "colab": {
          "base_uri": "https://localhost:8080/"
        },
        "outputId": "fc50db3c-7631-4bf5-edf3-9767f5c06aea"
      },
      "execution_count": null,
      "outputs": [
        {
          "output_type": "stream",
          "name": "stderr",
          "text": [
            "ERROR:urllib3.connection:Certificate did not match expected hostname: 3.6.235.66. Certificate: {'subject': ((('commonName', 'facemagazine.in'),),), 'issuer': ((('countryName', 'US'),), (('organizationName', \"Let's Encrypt\"),), (('commonName', 'R3'),)), 'version': 3, 'serialNumber': '03C60657A69D13BAD787D54D4FB22C22E88B', 'notBefore': 'Aug 29 21:54:16 2022 GMT', 'notAfter': 'Nov 27 21:54:15 2022 GMT', 'subjectAltName': (('DNS', 'facemagazine.in'), ('DNS', 'www.facemagazine.in')), 'OCSP': ('http://r3.o.lencr.org',), 'caIssuers': ('http://r3.i.lencr.org/',)}\n"
          ]
        },
        {
          "output_type": "stream",
          "name": "stdout",
          "text": [
            "HTTPSConnectionPool(host='3.6.235.66', port=443): Max retries exceeded with url: /wp-content/uploads/2021/06/image-12.png (Caused by SSLError(SSLCertVerificationError(\"hostname '3.6.235.66' doesn't match either of 'facemagazine.in', 'www.facemagazine.in'\")))\n"
          ]
        }
      ]
    },
    {
      "cell_type": "code",
      "source": [
        "!zip -r simple_images.zip simple_images"
      ],
      "metadata": {
        "colab": {
          "base_uri": "https://localhost:8080/"
        },
        "id": "N26Pe-7Nrtzp",
        "outputId": "8961618b-b04a-43ac-f2a9-594a48b8aa84"
      },
      "execution_count": null,
      "outputs": [
        {
          "output_type": "stream",
          "name": "stdout",
          "text": [
            "  adding: simple_images/ (stored 0%)\n",
            "  adding: simple_images/Sachin Tendulkar face/ (stored 0%)\n",
            "  adding: simple_images/Sachin Tendulkar face/Sachin Tendulkar face_27.jpg (deflated 33%)\n",
            "  adding: simple_images/Sachin Tendulkar face/Sachin Tendulkar face_16.jpg (deflated 44%)\n",
            "  adding: simple_images/Sachin Tendulkar face/Sachin Tendulkar face_17.jpg (deflated 3%)\n",
            "  adding: simple_images/Sachin Tendulkar face/Sachin Tendulkar face_22.jpg (deflated 1%)\n",
            "  adding: simple_images/Sachin Tendulkar face/Sachin Tendulkar face_21.jpg (deflated 0%)\n",
            "  adding: simple_images/Sachin Tendulkar face/Sachin Tendulkar face_19.jpg (deflated 32%)\n",
            "  adding: simple_images/Sachin Tendulkar face/Sachin Tendulkar face_13.jpg (deflated 37%)\n",
            "  adding: simple_images/Sachin Tendulkar face/Sachin Tendulkar face_8.jpg (deflated 2%)\n",
            "  adding: simple_images/Sachin Tendulkar face/Sachin Tendulkar face_15.jpg (deflated 5%)\n",
            "  adding: simple_images/Sachin Tendulkar face/Sachin Tendulkar face_25.jpg (deflated 1%)\n",
            "  adding: simple_images/Sachin Tendulkar face/Sachin Tendulkar face_9.jpg (deflated 10%)\n",
            "  adding: simple_images/Sachin Tendulkar face/Sachin Tendulkar face_6.jpg (deflated 1%)\n",
            "  adding: simple_images/Sachin Tendulkar face/Sachin Tendulkar face_3.jpg (stored 0%)\n",
            "  adding: simple_images/Sachin Tendulkar face/Sachin Tendulkar face_14.jpg (deflated 1%)\n",
            "  adding: simple_images/Sachin Tendulkar face/Sachin Tendulkar face_2.jpg (deflated 5%)\n",
            "  adding: simple_images/Sachin Tendulkar face/Sachin Tendulkar face_29.jpg (deflated 0%)\n",
            "  adding: simple_images/Sachin Tendulkar face/Sachin Tendulkar face_28.jpg (deflated 7%)\n",
            "  adding: simple_images/Sachin Tendulkar face/Sachin Tendulkar face_7.jpg (deflated 1%)\n",
            "  adding: simple_images/Sachin Tendulkar face/Sachin Tendulkar face_1.jpg (stored 0%)\n",
            "  adding: simple_images/Sachin Tendulkar face/Sachin Tendulkar face_24.jpg (deflated 0%)\n",
            "  adding: simple_images/Sachin Tendulkar face/Sachin Tendulkar face_26.jpg (deflated 5%)\n",
            "  adding: simple_images/Sachin Tendulkar face/Sachin Tendulkar face_10.jpg (deflated 0%)\n",
            "  adding: simple_images/Sachin Tendulkar face/Sachin Tendulkar face_11.jpg (deflated 4%)\n",
            "  adding: simple_images/Sachin Tendulkar face/Sachin Tendulkar face_23.jpg (deflated 29%)\n",
            "  adding: simple_images/Sachin Tendulkar face/Sachin Tendulkar face_12.jpg (deflated 4%)\n",
            "  adding: simple_images/Sachin Tendulkar face/Sachin Tendulkar face_4.jpg (deflated 2%)\n",
            "  adding: simple_images/Sachin Tendulkar face/Sachin Tendulkar face_20.jpg (deflated 1%)\n",
            "  adding: simple_images/Sachin Tendulkar face/Sachin Tendulkar face_30.jpg (deflated 1%)\n",
            "  adding: simple_images/Sachin Tendulkar face/Sachin Tendulkar face_18.jpg (deflated 1%)\n",
            "  adding: simple_images/Sachin Tendulkar face/Sachin Tendulkar face_5.jpg (deflated 1%)\n",
            "  adding: simple_images/Kajol face/ (stored 0%)\n",
            "  adding: simple_images/Kajol face/Kajol face_13.jpg (deflated 0%)\n",
            "  adding: simple_images/Kajol face/Kajol face_24.jpg (deflated 1%)\n",
            "  adding: simple_images/Kajol face/Kajol face_14.jpg (deflated 0%)\n",
            "  adding: simple_images/Kajol face/Kajol face_17.jpg (deflated 0%)\n",
            "  adding: simple_images/Kajol face/Kajol face_16.jpg (deflated 0%)\n",
            "  adding: simple_images/Kajol face/Kajol face_2.jpg (deflated 5%)\n",
            "  adding: simple_images/Kajol face/Kajol face_8.jpg (deflated 0%)\n",
            "  adding: simple_images/Kajol face/Kajol face_5.jpg (deflated 0%)\n",
            "  adding: simple_images/Kajol face/Kajol face_12.jpg (deflated 1%)\n",
            "  adding: simple_images/Kajol face/Kajol face_22.jpg (deflated 0%)\n",
            "  adding: simple_images/Kajol face/Kajol face_4.jpg (deflated 0%)\n",
            "  adding: simple_images/Kajol face/Kajol face_21.jpg (deflated 30%)\n",
            "  adding: simple_images/Kajol face/Kajol face_15.jpg (stored 0%)\n",
            "  adding: simple_images/Kajol face/Kajol face_30.jpg (deflated 0%)\n",
            "  adding: simple_images/Kajol face/Kajol face_10.jpg (deflated 0%)\n",
            "  adding: simple_images/Kajol face/Kajol face_25.jpg (deflated 1%)\n",
            "  adding: simple_images/Kajol face/Kajol face_27.jpg (deflated 0%)\n",
            "  adding: simple_images/Kajol face/Kajol face_18.jpg (deflated 1%)\n",
            "  adding: simple_images/Kajol face/Kajol face_19.jpg (deflated 0%)\n",
            "  adding: simple_images/Kajol face/Kajol face_3.jpg (stored 0%)\n",
            "  adding: simple_images/Kajol face/Kajol face_7.jpg (stored 0%)\n",
            "  adding: simple_images/Kajol face/Kajol face_6.jpg (deflated 0%)\n",
            "  adding: simple_images/Kajol face/Kajol face_20.jpg (deflated 34%)\n",
            "  adding: simple_images/Kajol face/Kajol face_23.jpg (deflated 0%)\n",
            "  adding: simple_images/Kajol face/Kajol face_1.jpg (stored 0%)\n",
            "  adding: simple_images/Kajol face/Kajol face_9.jpg (deflated 0%)\n",
            "  adding: simple_images/Kajol face/Kajol face_28.jpg (deflated 1%)\n",
            "  adding: simple_images/Kajol face/Kajol face_29.jpg (deflated 0%)\n",
            "  adding: simple_images/Kajol face/Kajol face_11.jpg (deflated 0%)\n",
            "  adding: simple_images/Kajol face/Kajol face_26.jpg (deflated 8%)\n",
            "  adding: simple_images/Sania Mirza face/ (stored 0%)\n",
            "  adding: simple_images/Sania Mirza face/Sania Mirza face_6.jpg (deflated 1%)\n",
            "  adding: simple_images/Sania Mirza face/Sania Mirza face_22.jpg (deflated 6%)\n",
            "  adding: simple_images/Sania Mirza face/Sania Mirza face_16.jpg (deflated 1%)\n",
            "  adding: simple_images/Sania Mirza face/Sania Mirza face_5.jpg (deflated 0%)\n",
            "  adding: simple_images/Sania Mirza face/Sania Mirza face_18.jpg (deflated 1%)\n",
            "  adding: simple_images/Sania Mirza face/Sania Mirza face_24.jpg (deflated 1%)\n",
            "  adding: simple_images/Sania Mirza face/Sania Mirza face_23.jpg (deflated 1%)\n",
            "  adding: simple_images/Sania Mirza face/Sania Mirza face_1.jpg (stored 0%)\n",
            "  adding: simple_images/Sania Mirza face/Sania Mirza face_7.jpg (stored 0%)\n",
            "  adding: simple_images/Sania Mirza face/Sania Mirza face_26.jpg (deflated 47%)\n",
            "  adding: simple_images/Sania Mirza face/Sania Mirza face_30.jpg (deflated 1%)\n",
            "  adding: simple_images/Sania Mirza face/Sania Mirza face_13.jpg (deflated 29%)\n",
            "  adding: simple_images/Sania Mirza face/Sania Mirza face_15.jpg (deflated 4%)\n",
            "  adding: simple_images/Sania Mirza face/Sania Mirza face_20.jpg (deflated 77%)\n",
            "  adding: simple_images/Sania Mirza face/Sania Mirza face_25.jpg (deflated 10%)\n",
            "  adding: simple_images/Sania Mirza face/Sania Mirza face_14.jpg (deflated 0%)\n",
            "  adding: simple_images/Sania Mirza face/Sania Mirza face_12.jpg (deflated 2%)\n",
            "  adding: simple_images/Sania Mirza face/Sania Mirza face_9.jpg (deflated 1%)\n",
            "  adding: simple_images/Sania Mirza face/Sania Mirza face_29.jpg (deflated 0%)\n",
            "  adding: simple_images/Sania Mirza face/Sania Mirza face_3.jpg (stored 0%)\n",
            "  adding: simple_images/Sania Mirza face/Sania Mirza face_19.jpg (deflated 47%)\n",
            "  adding: simple_images/Sania Mirza face/Sania Mirza face_21.jpg (deflated 77%)\n",
            "  adding: simple_images/Sania Mirza face/Sania Mirza face_27.jpg (deflated 0%)\n",
            "  adding: simple_images/Sania Mirza face/Sania Mirza face_17.jpg (deflated 0%)\n",
            "  adding: simple_images/Sania Mirza face/Sania Mirza face_10.jpg (deflated 0%)\n",
            "  adding: simple_images/Sania Mirza face/Sania Mirza face_2.jpg (deflated 5%)\n",
            "  adding: simple_images/Sania Mirza face/Sania Mirza face_4.jpg (deflated 77%)\n",
            "  adding: simple_images/Sania Mirza face/Sania Mirza face_11.jpg (deflated 0%)\n",
            "  adding: simple_images/Sania Mirza face/Sania Mirza face_8.jpg (deflated 0%)\n",
            "  adding: simple_images/Sania Mirza face/Sania Mirza face_28.jpg (deflated 0%)\n",
            "  adding: simple_images/Amitabh Bachchan face/ (stored 0%)\n",
            "  adding: simple_images/Amitabh Bachchan face/Amitabh Bachchan face_24.jpg (deflated 0%)\n",
            "  adding: simple_images/Amitabh Bachchan face/Amitabh Bachchan face_12.jpg (deflated 2%)\n",
            "  adding: simple_images/Amitabh Bachchan face/Amitabh Bachchan face_8.jpg (deflated 37%)\n",
            "  adding: simple_images/Amitabh Bachchan face/Amitabh Bachchan face_16.jpg (deflated 2%)\n",
            "  adding: simple_images/Amitabh Bachchan face/Amitabh Bachchan face_15.jpg (deflated 2%)\n",
            "  adding: simple_images/Amitabh Bachchan face/Amitabh Bachchan face_7.jpg (deflated 3%)\n",
            "  adding: simple_images/Amitabh Bachchan face/Amitabh Bachchan face_18.jpg (deflated 0%)\n",
            "  adding: simple_images/Amitabh Bachchan face/Amitabh Bachchan face_17.jpg (deflated 0%)\n",
            "  adding: simple_images/Amitabh Bachchan face/Amitabh Bachchan face_4.jpg (deflated 0%)\n",
            "  adding: simple_images/Amitabh Bachchan face/Amitabh Bachchan face_23.jpg (deflated 1%)\n",
            "  adding: simple_images/Amitabh Bachchan face/Amitabh Bachchan face_28.jpg (deflated 2%)\n",
            "  adding: simple_images/Amitabh Bachchan face/Amitabh Bachchan face_19.jpg (deflated 2%)\n",
            "  adding: simple_images/Amitabh Bachchan face/Amitabh Bachchan face_6.jpg (deflated 0%)\n",
            "  adding: simple_images/Amitabh Bachchan face/Amitabh Bachchan face_11.jpg (deflated 0%)\n",
            "  adding: simple_images/Amitabh Bachchan face/Amitabh Bachchan face_27.jpg (deflated 1%)\n",
            "  adding: simple_images/Amitabh Bachchan face/Amitabh Bachchan face_29.jpg (deflated 0%)\n",
            "  adding: simple_images/Amitabh Bachchan face/Amitabh Bachchan face_9.jpg (deflated 0%)\n",
            "  adding: simple_images/Amitabh Bachchan face/Amitabh Bachchan face_1.jpg (stored 0%)\n",
            "  adding: simple_images/Amitabh Bachchan face/Amitabh Bachchan face_10.jpg (deflated 0%)\n",
            "  adding: simple_images/Amitabh Bachchan face/Amitabh Bachchan face_2.jpg (deflated 5%)\n",
            "  adding: simple_images/Amitabh Bachchan face/Amitabh Bachchan face_20.jpg (deflated 30%)\n",
            "  adding: simple_images/Amitabh Bachchan face/Amitabh Bachchan face_22.jpg (deflated 40%)\n",
            "  adding: simple_images/Amitabh Bachchan face/Amitabh Bachchan face_14.jpg (deflated 0%)\n",
            "  adding: simple_images/Amitabh Bachchan face/Amitabh Bachchan face_25.jpg (deflated 10%)\n",
            "  adding: simple_images/Amitabh Bachchan face/Amitabh Bachchan face_26.jpg (deflated 47%)\n",
            "  adding: simple_images/Amitabh Bachchan face/Amitabh Bachchan face_13.jpg (deflated 1%)\n",
            "  adding: simple_images/Amitabh Bachchan face/Amitabh Bachchan face_5.jpg (deflated 1%)\n",
            "  adding: simple_images/Amitabh Bachchan face/Amitabh Bachchan face_21.jpg (deflated 1%)\n",
            "  adding: simple_images/Amitabh Bachchan face/Amitabh Bachchan face_30.jpg (deflated 9%)\n",
            "  adding: simple_images/Amitabh Bachchan face/Amitabh Bachchan face_3.jpg (stored 0%)\n",
            "  adding: simple_images/Shah Rukh Khan face/ (stored 0%)\n",
            "  adding: simple_images/Shah Rukh Khan face/Shah Rukh Khan face_8.jpg (deflated 1%)\n",
            "  adding: simple_images/Shah Rukh Khan face/Shah Rukh Khan face_17.jpg (deflated 1%)\n",
            "  adding: simple_images/Shah Rukh Khan face/Shah Rukh Khan face_26.jpg (deflated 1%)\n",
            "  adding: simple_images/Shah Rukh Khan face/Shah Rukh Khan face_12.jpg (deflated 1%)\n",
            "  adding: simple_images/Shah Rukh Khan face/Shah Rukh Khan face_30.jpg (deflated 1%)\n",
            "  adding: simple_images/Shah Rukh Khan face/Shah Rukh Khan face_19.jpg (deflated 0%)\n",
            "  adding: simple_images/Shah Rukh Khan face/Shah Rukh Khan face_29.jpg (deflated 0%)\n",
            "  adding: simple_images/Shah Rukh Khan face/Shah Rukh Khan face_7.jpg (deflated 0%)\n",
            "  adding: simple_images/Shah Rukh Khan face/Shah Rukh Khan face_23.jpg (deflated 2%)\n",
            "  adding: simple_images/Shah Rukh Khan face/Shah Rukh Khan face_5.jpg (deflated 1%)\n",
            "  adding: simple_images/Shah Rukh Khan face/Shah Rukh Khan face_18.jpg (deflated 1%)\n",
            "  adding: simple_images/Shah Rukh Khan face/Shah Rukh Khan face_25.jpg (deflated 2%)\n",
            "  adding: simple_images/Shah Rukh Khan face/Shah Rukh Khan face_22.jpg (deflated 1%)\n",
            "  adding: simple_images/Shah Rukh Khan face/Shah Rukh Khan face_9.jpg (deflated 0%)\n",
            "  adding: simple_images/Shah Rukh Khan face/Shah Rukh Khan face_4.jpg (deflated 2%)\n",
            "  adding: simple_images/Shah Rukh Khan face/Shah Rukh Khan face_11.jpg (deflated 0%)\n",
            "  adding: simple_images/Shah Rukh Khan face/Shah Rukh Khan face_14.jpg (deflated 4%)\n",
            "  adding: simple_images/Shah Rukh Khan face/Shah Rukh Khan face_21.jpg (deflated 37%)\n",
            "  adding: simple_images/Shah Rukh Khan face/Shah Rukh Khan face_1.jpg (stored 0%)\n",
            "  adding: simple_images/Shah Rukh Khan face/Shah Rukh Khan face_16.jpg (deflated 0%)\n",
            "  adding: simple_images/Shah Rukh Khan face/Shah Rukh Khan face_28.jpg (deflated 1%)\n",
            "  adding: simple_images/Shah Rukh Khan face/Shah Rukh Khan face_24.jpg (deflated 1%)\n",
            "  adding: simple_images/Shah Rukh Khan face/Shah Rukh Khan face_3.jpg (stored 0%)\n",
            "  adding: simple_images/Shah Rukh Khan face/Shah Rukh Khan face_10.jpg (deflated 35%)\n",
            "  adding: simple_images/Shah Rukh Khan face/Shah Rukh Khan face_2.jpg (deflated 5%)\n",
            "  adding: simple_images/Shah Rukh Khan face/Shah Rukh Khan face_13.jpg (deflated 2%)\n",
            "  adding: simple_images/Shah Rukh Khan face/Shah Rukh Khan face_27.jpg (deflated 5%)\n",
            "  adding: simple_images/Shah Rukh Khan face/Shah Rukh Khan face_15.jpg (deflated 2%)\n",
            "  adding: simple_images/Shah Rukh Khan face/Shah Rukh Khan face_6.jpg (deflated 2%)\n",
            "  adding: simple_images/Shah Rukh Khan face/Shah Rukh Khan face_20.jpg (stored 0%)\n"
          ]
        }
      ]
    }
  ]
}